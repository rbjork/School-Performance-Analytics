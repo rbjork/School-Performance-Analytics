{
 "cells": [
  {
   "cell_type": "code",
   "execution_count": 2,
   "metadata": {
    "collapsed": true
   },
   "outputs": [],
   "source": [
    "import numpy as np\n",
    "import pandas as pd\n",
    "import scipy.stats as stats\n",
    "import matplotlib.pyplot as plt\n",
    "%matplotlib inline"
   ]
  },
  {
   "cell_type": "code",
   "execution_count": 3,
   "metadata": {
    "collapsed": true
   },
   "outputs": [],
   "source": [
    "df = pd.read_csv('HWAssignment_Dataset.csv')"
   ]
  },
  {
   "cell_type": "code",
   "execution_count": 4,
   "metadata": {},
   "outputs": [],
   "source": [
    "dfK8Math = df[df['AssessmentSubject'] == 'Math']\n",
    "\n",
    "df2016_2017 = dfK8Math.loc[dfK8Math['SchoolYear'] == '2016-2017']\n",
    "df2017_2018 = dfK8Math.loc[dfK8Math['SchoolYear'] == '2017-2018']\n",
    "\n",
    "# Track Students (one year to the next). Will include effect of returning, leaving and entering students into Aspire\n",
    "studentsMath3to7_2017 = df2016_2017.loc[df['Student_Grade_Level'].isin(['03','04', '05', '06', '07'])]\n",
    "studentsMath4to8_2018 = df2017_2018.loc[df['Student_Grade_Level'].isin(['04', '05', '06', '07','08'])]\n",
    "\n",
    "# Track Schools (Same grades across years)\n",
    "schoolMath4to7_2017 = df2016_2017.loc[df['Student_Grade_Level'].isin(['04','05', '06', '07'])]\n",
    "schoolMath4to8_2018 = df2017_2018.loc[df['Student_Grade_Level'].isin(['04', '05', '06', '07'])]"
   ]
  },
  {
   "cell_type": "markdown",
   "metadata": {},
   "source": [
    "In the following two sections, 'Change in scores by school and year' and 'Change is scores by school and students'\n",
    "we attempt to ascertain is changes in mean score can be attributed to student body change. We use bar graphs and coorelation computation."
   ]
  },
  {
   "cell_type": "markdown",
   "metadata": {},
   "source": [
    "### Change is scores by school"
   ]
  },
  {
   "cell_type": "code",
   "execution_count": 5,
   "metadata": {
    "collapsed": true
   },
   "outputs": [],
   "source": [
    "scores2016_2017 = schoolMath4to7_2017.groupby(['School'])['PercentScore'].agg(['mean'])\n",
    "scores2017_2018 = schoolMath4to8_2018.groupby(['School'])['PercentScore'].agg(['mean'])\n",
    "\n",
    "schoolChange = scores2017_2018['mean'] - scores2016_2017['mean']\n",
    "#ax = schoolChange.plot.bar(x='School', y='mean', rot=0)"
   ]
  },
  {
   "cell_type": "markdown",
   "metadata": {},
   "source": [
    "### Change in students population by school and grade"
   ]
  },
  {
   "cell_type": "code",
   "execution_count": 5,
   "metadata": {
    "collapsed": true
   },
   "outputs": [],
   "source": [
    "studentBody2017 = studentsMath3to7_2017['Hashed_StudentNumber']\n",
    "studentBody2018 = studentsMath4to8_2018['Hashed_StudentNumber']"
   ]
  },
  {
   "cell_type": "code",
   "execution_count": 6,
   "metadata": {
    "collapsed": true
   },
   "outputs": [],
   "source": [
    "s1 = set(studentBody2017)\n",
    "s2 = set(studentBody2018)"
   ]
  },
  {
   "cell_type": "code",
   "execution_count": 7,
   "metadata": {},
   "outputs": [
    {
     "data": {
      "text/plain": [
       "(6122, 6128, 1216, 1210, 4912)"
      ]
     },
     "execution_count": 7,
     "metadata": {},
     "output_type": "execute_result"
    }
   ],
   "source": [
    "enteringStudents = s2 - s1\n",
    "leavingStudents = s1 - s2\n",
    "returningStudents = s2 - set(list(enteringStudents) + list(leavingStudents))\n",
    "len(s1), len(s2), len(enteringStudents), len(leavingStudents), len(returningStudents)"
   ]
  },
  {
   "cell_type": "code",
   "execution_count": 8,
   "metadata": {
    "collapsed": true
   },
   "outputs": [],
   "source": [
    "studentsMath3to7_2017i = studentsMath3to7_2017.set_index('Hashed_StudentNumber')\n",
    "studentsMath4to8_2018i = studentsMath4to8_2018.set_index('Hashed_StudentNumber')"
   ]
  },
  {
   "cell_type": "code",
   "execution_count": 9,
   "metadata": {
    "collapsed": true
   },
   "outputs": [],
   "source": [
    "ReturningStudents = studentsMath4to8_2018i.loc[returningStudents]\n",
    "EnteringStudents = studentsMath4to8_2018i.loc[enteringStudents]\n",
    "LeavingStudends =  studentsMath3to7_2017i.loc[leavingStudents]"
   ]
  },
  {
   "cell_type": "code",
   "execution_count": 11,
   "metadata": {},
   "outputs": [
    {
     "data": {
      "text/plain": [
       "(0.42216226998860906, 0.4014844187963711)"
      ]
     },
     "execution_count": 11,
     "metadata": {},
     "output_type": "execute_result"
    }
   ],
   "source": [
    "studentsMath3to7_2017i['PercentScore'].mean(), LeavingStudends['PercentScore'].mean()"
   ]
  },
  {
   "cell_type": "code",
   "execution_count": 12,
   "metadata": {},
   "outputs": [
    {
     "data": {
      "text/plain": [
       "(0.4328469294673435, 0.38159065573770395)"
      ]
     },
     "execution_count": 12,
     "metadata": {},
     "output_type": "execute_result"
    }
   ],
   "source": [
    "studentsMath4to8_2018i['PercentScore'].mean(), EnteringStudents['PercentScore'].mean()"
   ]
  },
  {
   "cell_type": "code",
   "execution_count": 14,
   "metadata": {},
   "outputs": [
    {
     "name": "stdout",
     "output_type": "stream",
     "text": [
      "School\n",
      "ACA    -0.044910\n",
      "AFA    -0.111591\n",
      "AGA    -0.064426\n",
      "AIA     0.015191\n",
      "AMLA   -0.065158\n",
      "Name: mean, dtype: float64\n"
     ]
    }
   ],
   "source": [
    "allStudentsStats = studentsMath4to8_2018i.groupby(['School'])['PercentScore'].agg(['count','mean'])\n",
    "\n",
    "enteringStudentsStats = EnteringStudents.groupby(['School'])['PercentScore'].agg(['count','mean'])\n",
    "returningStudentStats = ReturningStudents.groupby(['School'])['PercentScore'].agg(['count','mean'])\n",
    "leavingStudendsStats = LeavingStudends.groupby(['School'])['PercentScore'].agg(['count','mean'])\n",
    "\n",
    "studentChange = enteringStudentsStats['mean'] - allStudentsStats['mean']\n",
    "\n",
    "# Moments usefull in determine how much student changes drive the mean (count and mean difference both matter)\n",
    "allStudentsStats['moment'] = allStudentsStats['mean']*allStudentsStats['count']\n",
    "enteringStudentsStats['moment'] = enteringStudentsStats['mean']*enteringStudentsStats['count']\n",
    "\n",
    "\n",
    "#print(studentChange.head())\n",
    "\n",
    "#ax = studentChange.plot.bar(x='School', y='mean', rot=0)"
   ]
  },
  {
   "cell_type": "code",
   "execution_count": 15,
   "metadata": {
    "collapsed": true
   },
   "outputs": [],
   "source": [
    "dfcompare = pd.DataFrame({'StudentChange':studentChange, 'SchoolChange':schoolChange})"
   ]
  },
  {
   "cell_type": "code",
   "execution_count": 18,
   "metadata": {},
   "outputs": [
    {
     "data": {
      "image/png": "[encoded data removed]",
      "text/plain": [
       "<matplotlib.figure.Figure at 0x1a1d862e80>"
      ]
     },
     "metadata": {},
     "output_type": "display_data"
    }
   ],
   "source": [
    "ax = dfcompare.plot.bar(rot=0,figsize=(18,10))"
   ]
  },
  {
   "cell_type": "code",
   "execution_count": 140,
   "metadata": {},
   "outputs": [
    {
     "data": {
      "text/html": [
       "<div>\n",
       "<style scoped>\n",
       "    .dataframe tbody tr th:only-of-type {\n",
       "        vertical-align: middle;\n",
       "    }\n",
       "\n",
       "    .dataframe tbody tr th {\n",
       "        vertical-align: top;\n",
       "    }\n",
       "\n",
       "    .dataframe thead th {\n",
       "        text-align: right;\n",
       "    }\n",
       "</style>\n",
       "<table border=\"1\" class=\"dataframe\">\n",
       "  <thead>\n",
       "    <tr style=\"text-align: right;\">\n",
       "      <th></th>\n",
       "      <th>StudentChange</th>\n",
       "      <th>SchoolChange</th>\n",
       "    </tr>\n",
       "  </thead>\n",
       "  <tbody>\n",
       "    <tr>\n",
       "      <th>StudentChange</th>\n",
       "      <td>1.000000</td>\n",
       "      <td>0.101343</td>\n",
       "    </tr>\n",
       "    <tr>\n",
       "      <th>SchoolChange</th>\n",
       "      <td>0.101343</td>\n",
       "      <td>1.000000</td>\n",
       "    </tr>\n",
       "  </tbody>\n",
       "</table>\n",
       "</div>"
      ],
      "text/plain": [
       "               StudentChange  SchoolChange\n",
       "StudentChange       1.000000      0.101343\n",
       "SchoolChange        0.101343      1.000000"
      ]
     },
     "execution_count": 140,
     "metadata": {},
     "output_type": "execute_result"
    }
   ],
   "source": [
    "dfcompare.corr()"
   ]
  },
  {
   "cell_type": "markdown",
   "metadata": {},
   "source": [
    "The Difference of scores between schools has little or no correlation with the change of students with our sample accross all schools. This suggest that changes in student body are not the reason for improved math scores across schools.  Thus at least for the sixth grade, improvement in scores may in fact be due to change in instructional methods.  But to really be sure.  Additional years of sampling are needed.  Also, it may be useful to make changes in delivery of student instruction and resouce across a random selection of schools in order to de-correlate with an other confounding factors. Since the correlation is very small, use of moments will not be used in analysis."
   ]
  },
  {
   "cell_type": "code",
   "execution_count": null,
   "metadata": {
    "collapsed": true
   },
   "outputs": [],
   "source": []
  }
 ],
 "metadata": {
  "kernelspec": {
   "display_name": "Python 3",
   "language": "python",
   "name": "python3"
  },
  "language_info": {
   "codemirror_mode": {
    "name": "ipython",
    "version": 3
   },
   "file_extension": ".py",
   "mimetype": "text/x-python",
   "name": "python",
   "nbconvert_exporter": "python",
   "pygments_lexer": "ipython3",
   "version": "3.6.7"
  }
 },
 "nbformat": 4,
 "nbformat_minor": 2
}
