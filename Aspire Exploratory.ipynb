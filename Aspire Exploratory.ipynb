{
 "cells": [
  {
   "cell_type": "markdown",
   "metadata": {},
   "source": [
    "### Exploration of K through 8th grade Aspire students competency change in Math\n",
    "#### By Ron Bjork (as part of my application to Analytics Engineer at Aspire)"
   ]
  },
  {
   "cell_type": "markdown",
   "metadata": {},
   "source": [
    "General approach was to look at distributions, determine if it is  normal like using graphical proceedure then analytical.  Then apply Null Hypothesis to see if mean difference between 2016-2017 year and 2017-2018 year is significant enough is assume due to some deterministic structural change in method of environment rather than some unconsidered changing random effect perturbing the mean from one year to the next. But we'll also consider changes in student body in the third notebook, \"Effect of Student Body Change\".  In this notebook, we apply the \"Null Hypothesis\" using the t-test to see if the performance change is enough to be statistically significant.  In the second notebook, \"Student Grades Most Effected\", we compare grades in terms of mean score changes between school years, and we observer whether the gaussian distribution of scores can be assumed - something that generally our analytica methods assume."
   ]
  },
  {
   "cell_type": "code",
   "execution_count": 1,
   "metadata": {
    "collapsed": true
   },
   "outputs": [],
   "source": [
    "import numpy as np\n",
    "import pandas as pd\n",
    "import scipy.stats as stats\n",
    "import matplotlib.pyplot as plt\n",
    "from scipy.optimize import curve_fit"
   ]
  },
  {
   "cell_type": "code",
   "execution_count": 2,
   "metadata": {
    "collapsed": true
   },
   "outputs": [],
   "source": [
    "%matplotlib inline"
   ]
  },
  {
   "cell_type": "code",
   "execution_count": 3,
   "metadata": {
    "collapsed": true
   },
   "outputs": [],
   "source": [
    "df = pd.read_csv('HWAssignment_Dataset.csv')"
   ]
  },
  {
   "cell_type": "code",
   "execution_count": 4,
   "metadata": {},
   "outputs": [
    {
     "data": {
      "text/plain": [
       "((31983, 14),\n",
       " ['SchoolYear',\n",
       "  'Hashed_StudentNumber',\n",
       "  'Student_Grade_Level',\n",
       "  'School',\n",
       "  'Region',\n",
       "  'AssessmentType',\n",
       "  'AssessmentSubject',\n",
       "  'AssessmentName',\n",
       "  'Student_Ethnicity',\n",
       "  'Student_is_FreeOrReducedLunch',\n",
       "  'Language_Fluency',\n",
       "  'Student_is_SPED',\n",
       "  'ProficiencyLevelScore',\n",
       "  'PercentScore'])"
      ]
     },
     "execution_count": 4,
     "metadata": {},
     "output_type": "execute_result"
    }
   ],
   "source": [
    "df.shape, list(df.columns)"
   ]
  },
  {
   "cell_type": "code",
   "execution_count": 5,
   "metadata": {},
   "outputs": [
    {
     "data": {
      "text/html": [
       "<div>\n",
       "<style scoped>\n",
       "    .dataframe tbody tr th:only-of-type {\n",
       "        vertical-align: middle;\n",
       "    }\n",
       "\n",
       "    .dataframe tbody tr th {\n",
       "        vertical-align: top;\n",
       "    }\n",
       "\n",
       "    .dataframe thead th {\n",
       "        text-align: right;\n",
       "    }\n",
       "</style>\n",
       "<table border=\"1\" class=\"dataframe\">\n",
       "  <thead>\n",
       "    <tr style=\"text-align: right;\">\n",
       "      <th></th>\n",
       "      <th>SchoolYear</th>\n",
       "      <th>Student_Grade_Level</th>\n",
       "      <th>School</th>\n",
       "      <th>Region</th>\n",
       "      <th>AssessmentType</th>\n",
       "      <th>AssessmentSubject</th>\n",
       "      <th>AssessmentName</th>\n",
       "      <th>Student_Ethnicity</th>\n",
       "      <th>Student_is_FreeOrReducedLunch</th>\n",
       "      <th>Language_Fluency</th>\n",
       "      <th>Student_is_SPED</th>\n",
       "      <th>ProficiencyLevelScore</th>\n",
       "      <th>PercentScore</th>\n",
       "      <th>Hashed_StudentNumber</th>\n",
       "    </tr>\n",
       "  </thead>\n",
       "  <tbody>\n",
       "    <tr>\n",
       "      <th>0</th>\n",
       "      <td>2016-2017</td>\n",
       "      <td>04</td>\n",
       "      <td>SCA</td>\n",
       "      <td>Central Valley</td>\n",
       "      <td>ICA</td>\n",
       "      <td>ELA</td>\n",
       "      <td>Aspire Public Schools Grade 4 ELA SBAC ICA - S...</td>\n",
       "      <td>Hispanic</td>\n",
       "      <td>N</td>\n",
       "      <td>English Only</td>\n",
       "      <td>N</td>\n",
       "      <td>3</td>\n",
       "      <td>0.5882</td>\n",
       "      <td>0xAA51CA34A2D1DAEE229F894F4FC608AC</td>\n",
       "    </tr>\n",
       "    <tr>\n",
       "      <th>1</th>\n",
       "      <td>2016-2017</td>\n",
       "      <td>04</td>\n",
       "      <td>SCA</td>\n",
       "      <td>Central Valley</td>\n",
       "      <td>ICA</td>\n",
       "      <td>Math</td>\n",
       "      <td>Aspire Public Schools Grade 4 Math SBAC ICA - ...</td>\n",
       "      <td>Hispanic</td>\n",
       "      <td>N</td>\n",
       "      <td>English Only</td>\n",
       "      <td>N</td>\n",
       "      <td>2</td>\n",
       "      <td>0.5161</td>\n",
       "      <td>0xAA51CA34A2D1DAEE229F894F4FC608AC</td>\n",
       "    </tr>\n",
       "    <tr>\n",
       "      <th>2</th>\n",
       "      <td>2017-2018</td>\n",
       "      <td>07</td>\n",
       "      <td>GSP</td>\n",
       "      <td>Bay Area</td>\n",
       "      <td>ICA</td>\n",
       "      <td>ELA</td>\n",
       "      <td>Aspire Public Schools Grade 7 ELA SBAC ICA - S...</td>\n",
       "      <td>Hispanic</td>\n",
       "      <td>Y</td>\n",
       "      <td>English Learner</td>\n",
       "      <td>N</td>\n",
       "      <td>1</td>\n",
       "      <td>0.1961</td>\n",
       "      <td>0x8BD65B6B32B697518B347E8E8A3E8CBB</td>\n",
       "    </tr>\n",
       "  </tbody>\n",
       "</table>\n",
       "</div>"
      ],
      "text/plain": [
       "  SchoolYear Student_Grade_Level School          Region AssessmentType  \\\n",
       "0  2016-2017                  04    SCA  Central Valley            ICA   \n",
       "1  2016-2017                  04    SCA  Central Valley            ICA   \n",
       "2  2017-2018                  07    GSP        Bay Area            ICA   \n",
       "\n",
       "  AssessmentSubject                                     AssessmentName  \\\n",
       "0               ELA  Aspire Public Schools Grade 4 ELA SBAC ICA - S...   \n",
       "1              Math  Aspire Public Schools Grade 4 Math SBAC ICA - ...   \n",
       "2               ELA  Aspire Public Schools Grade 7 ELA SBAC ICA - S...   \n",
       "\n",
       "  Student_Ethnicity Student_is_FreeOrReducedLunch Language_Fluency  \\\n",
       "0          Hispanic                             N     English Only   \n",
       "1          Hispanic                             N     English Only   \n",
       "2          Hispanic                             Y  English Learner   \n",
       "\n",
       "  Student_is_SPED  ProficiencyLevelScore  PercentScore  \\\n",
       "0               N                      3        0.5882   \n",
       "1               N                      2        0.5161   \n",
       "2               N                      1        0.1961   \n",
       "\n",
       "                 Hashed_StudentNumber  \n",
       "0  0xAA51CA34A2D1DAEE229F894F4FC608AC  \n",
       "1  0xAA51CA34A2D1DAEE229F894F4FC608AC  \n",
       "2  0x8BD65B6B32B697518B347E8E8A3E8CBB  "
      ]
     },
     "execution_count": 5,
     "metadata": {},
     "output_type": "execute_result"
    }
   ],
   "source": [
    "df[['SchoolYear',\n",
    "  'Student_Grade_Level',\n",
    "  'School',\n",
    "  'Region',\n",
    "  'AssessmentType',\n",
    "  'AssessmentSubject',\n",
    "  'AssessmentName',\n",
    "  'Student_Ethnicity',\n",
    "  'Student_is_FreeOrReducedLunch',\n",
    "  'Language_Fluency',\n",
    "  'Student_is_SPED',\n",
    "  'ProficiencyLevelScore',\n",
    "  'PercentScore',\n",
    "  'Hashed_StudentNumber']].head(3)"
   ]
  },
  {
   "cell_type": "markdown",
   "metadata": {},
   "source": [
    "### Filtering for K8 Math Students"
   ]
  },
  {
   "cell_type": "code",
   "execution_count": 6,
   "metadata": {},
   "outputs": [
    {
     "data": {
      "text/plain": [
       "array(['04', '07', '06', '05', '11', '12', '03', '08', '10', 'PK'],\n",
       "      dtype=object)"
      ]
     },
     "execution_count": 6,
     "metadata": {},
     "output_type": "execute_result"
    }
   ],
   "source": [
    "df['Student_Grade_Level'].unique()"
   ]
  },
  {
   "cell_type": "code",
   "execution_count": 7,
   "metadata": {},
   "outputs": [
    {
     "data": {
      "text/plain": [
       "array(['04', '07', '06', '05', '03', '08'], dtype=object)"
      ]
     },
     "execution_count": 7,
     "metadata": {},
     "output_type": "execute_result"
    }
   ],
   "source": [
    "dfK8 = df.loc[df['Student_Grade_Level'].isin((['03','04', '05', '07', '06', '08']))]\n",
    "dfK8['Student_Grade_Level'].unique()"
   ]
  },
  {
   "cell_type": "code",
   "execution_count": 8,
   "metadata": {},
   "outputs": [
    {
     "name": "stdout",
     "output_type": "stream",
     "text": [
      "Sample size: 14662\n"
     ]
    }
   ],
   "source": [
    "dfK8Math = dfK8.loc[df['AssessmentSubject'] == 'Math']\n",
    "print(\"Sample size:\",dfK8Math.shape[0])"
   ]
  },
  {
   "cell_type": "markdown",
   "metadata": {},
   "source": [
    "### Types of Assessments"
   ]
  },
  {
   "cell_type": "code",
   "execution_count": 9,
   "metadata": {},
   "outputs": [
    {
     "data": {
      "text/plain": [
       "array(['ICA'], dtype=object)"
      ]
     },
     "execution_count": 9,
     "metadata": {},
     "output_type": "execute_result"
    }
   ],
   "source": [
    "\n",
    "dfK8Math['AssessmentType'].unique()"
   ]
  },
  {
   "cell_type": "markdown",
   "metadata": {},
   "source": [
    "Just one, ICA"
   ]
  },
  {
   "cell_type": "markdown",
   "metadata": {},
   "source": [
    "### Looking at Distributions"
   ]
  },
  {
   "cell_type": "code",
   "execution_count": 10,
   "metadata": {},
   "outputs": [
    {
     "data": {
      "image/png": "[encoded data removed]",
      "text/plain": [
       "<matplotlib.figure.Figure at 0x1a16530b00>"
      ]
     },
     "metadata": {},
     "output_type": "display_data"
    }
   ],
   "source": [
    "\n",
    "res = plt.hist(dfK8Math['PercentScore'],bins=12)\n"
   ]
  },
  {
   "cell_type": "markdown",
   "metadata": {},
   "source": [
    "Appears Normal"
   ]
  },
  {
   "cell_type": "code",
   "execution_count": 11,
   "metadata": {},
   "outputs": [
    {
     "data": {
      "image/png": "[encoded data removed]",
      "text/plain": [
       "<matplotlib.figure.Figure at 0x10f61f668>"
      ]
     },
     "metadata": {},
     "output_type": "display_data"
    }
   ],
   "source": [
    "res = plt.hist(dfK8Math['ProficiencyLevelScore'])\n"
   ]
  },
  {
   "cell_type": "markdown",
   "metadata": {},
   "source": [
    "Clearly not usefull for Normal Distribution fitting"
   ]
  },
  {
   "cell_type": "markdown",
   "metadata": {},
   "source": [
    "### Assuming Normal Distribution, Math Assesment Score Stats for K8 "
   ]
  },
  {
   "cell_type": "code",
   "execution_count": 12,
   "metadata": {},
   "outputs": [
    {
     "data": {
      "text/html": [
       "<div>\n",
       "<style scoped>\n",
       "    .dataframe tbody tr th:only-of-type {\n",
       "        vertical-align: middle;\n",
       "    }\n",
       "\n",
       "    .dataframe tbody tr th {\n",
       "        vertical-align: top;\n",
       "    }\n",
       "\n",
       "    .dataframe thead th {\n",
       "        text-align: right;\n",
       "    }\n",
       "</style>\n",
       "<table border=\"1\" class=\"dataframe\">\n",
       "  <thead>\n",
       "    <tr style=\"text-align: right;\">\n",
       "      <th></th>\n",
       "      <th>count</th>\n",
       "      <th>mean</th>\n",
       "      <th>var</th>\n",
       "    </tr>\n",
       "    <tr>\n",
       "      <th>SchoolYear</th>\n",
       "      <th></th>\n",
       "      <th></th>\n",
       "      <th></th>\n",
       "    </tr>\n",
       "  </thead>\n",
       "  <tbody>\n",
       "    <tr>\n",
       "      <th>2016-2017</th>\n",
       "      <td>7181</td>\n",
       "      <td>0.420222</td>\n",
       "      <td>0.044306</td>\n",
       "    </tr>\n",
       "    <tr>\n",
       "      <th>2017-2018</th>\n",
       "      <td>7481</td>\n",
       "      <td>0.452274</td>\n",
       "      <td>0.048219</td>\n",
       "    </tr>\n",
       "  </tbody>\n",
       "</table>\n",
       "</div>"
      ],
      "text/plain": [
       "            count      mean       var\n",
       "SchoolYear                           \n",
       "2016-2017    7181  0.420222  0.044306\n",
       "2017-2018    7481  0.452274  0.048219"
      ]
     },
     "execution_count": 12,
     "metadata": {},
     "output_type": "execute_result"
    }
   ],
   "source": [
    "schoolscorestatics = dfK8Math.groupby(['SchoolYear'])['PercentScore'].agg(['count','mean','var'])\n",
    "schoolscorestatics"
   ]
  },
  {
   "cell_type": "code",
   "execution_count": 13,
   "metadata": {},
   "outputs": [
    {
     "data": {
      "text/plain": [
       "(7181, 14)"
      ]
     },
     "execution_count": 13,
     "metadata": {},
     "output_type": "execute_result"
    }
   ],
   "source": [
    "dfK8Math2016_12017 = dfK8Math.loc[dfK8Math['SchoolYear'] == '2016-2017']\n",
    "dfK8Math2016_12017.shape"
   ]
  },
  {
   "cell_type": "code",
   "execution_count": 14,
   "metadata": {},
   "outputs": [
    {
     "data": {
      "text/plain": [
       "(7481, 14)"
      ]
     },
     "execution_count": 14,
     "metadata": {},
     "output_type": "execute_result"
    }
   ],
   "source": [
    "dfK8Math2017_12018 = dfK8Math.loc[dfK8Math['SchoolYear'] == '2017-2018']\n",
    "dfK8Math2017_12018.shape"
   ]
  },
  {
   "cell_type": "code",
   "execution_count": 19,
   "metadata": {},
   "outputs": [
    {
     "name": "stdout",
     "output_type": "stream",
     "text": [
      "data rows column count (7181, 14)\n",
      "mean 0.4202215708118719\n",
      "fitted scaler, mean, sigma = 822.9053254212326 0.35740869642751205 0.2485793157565146\n"
     ]
    },
    {
     "data": {
      "image/png": "[encoded data removed]",
      "text/plain": [
       "<matplotlib.figure.Figure at 0x1a15e005c0>"
      ]
     },
     "metadata": {},
     "output_type": "display_data"
    }
   ],
   "source": [
    "import math\n",
    "print(\"data rows column count\",dfK8Math2016_12017.shape)\n",
    "print(\"mean\",dfK8Math2016_12017['PercentScore'].mean())\n",
    "\n",
    "mean = dfK8Math2016_12017['PercentScore'].mean()\n",
    "sigma = math.sqrt(dfK8Math2016_12017['PercentScore'].var())\n",
    "\n",
    "def gaus(x,a,x0,sigma):\n",
    "    return a*np.exp(-(x-x0)**2/(2*sigma**2))\n",
    "\n",
    "\n",
    "res = plt.hist(dfK8Math2016_12017['PercentScore'],bins=15)\n",
    "\n",
    "y = res[0]\n",
    "x = res[1][0:len(y)]\n",
    "\n",
    "popt,pcov = curve_fit(gaus,x,y,p0=[1,mean,sigma])\n",
    "\n",
    "print(\"fitted scaler, mean, sigma =\",*popt)\n",
    "\n",
    "plt.plot(x,y,'b+:',label='data')\n",
    "plt.plot(x,gaus(x,*popt),'ro:',label='fit')\n",
    "\n",
    "plt.legend()\n",
    "plt.title('Distribution of scores')\n",
    "plt.xlabel('Score')\n",
    "plt.ylabel('Number of Students')\n",
    "\n",
    "plt.show()"
   ]
  },
  {
   "cell_type": "code",
   "execution_count": 20,
   "metadata": {},
   "outputs": [
    {
     "name": "stdout",
     "output_type": "stream",
     "text": [
      "mean 0.45227429488036824 sigma 0.21958792892065224\n",
      "fitted scaler, mean, sigma = 807.1928187221381 0.3957555921597003 0.26593525651625366\n"
     ]
    },
    {
     "data": {
      "image/png": "[encoded data removed]",
      "text/plain": [
       "<matplotlib.figure.Figure at 0x1a1f71a908>"
      ]
     },
     "metadata": {},
     "output_type": "display_data"
    }
   ],
   "source": [
    "\n",
    "mean = dfK8Math2017_12018['PercentScore'].mean()\n",
    "sigma = math.sqrt(dfK8Math2017_12018['PercentScore'].var())\n",
    "\n",
    "print(\"mean\",mean,\"sigma\",sigma)\n",
    "\n",
    "res = plt.hist(dfK8Math2017_12018['PercentScore'],bins=15)\n",
    "y = res[0]\n",
    "x = res[1][0:len(y)]\n",
    "\n",
    "popt,pcov = curve_fit(gaus,x,y,p0=[1,mean,sigma])\n",
    "\n",
    "print(\"fitted scaler, mean, sigma =\",*popt)\n",
    "\n",
    "plt.plot(x,y,'b+:',label='data')\n",
    "plt.plot(x,gaus(x,*popt),'ro:',label='fit')\n",
    "\n",
    "plt.legend()\n",
    "plt.title('Distribution of scores')\n",
    "plt.xlabel('Score')\n",
    "plt.ylabel('Number of Students')\n",
    "\n",
    "plt.show()"
   ]
  },
  {
   "cell_type": "markdown",
   "metadata": {},
   "source": [
    "The distributions appear basically normal(of course no score can be below zero as is possible on a normal curve).  The \"68-95-99.7\" could also be used to see how well the data fits the normal distribution assumption."
   ]
  },
  {
   "cell_type": "markdown",
   "metadata": {},
   "source": [
    "### Checking Against the 68-95-99.5 Rule"
   ]
  },
  {
   "cell_type": "code",
   "execution_count": 29,
   "metadata": {},
   "outputs": [
    {
     "name": "stdout",
     "output_type": "stream",
     "text": [
      "( 68 vs 0.6341398208795616 )  ( 95 vs 0.9712605266675578 ) ( 99.5  vs 1.0 )\n"
     ]
    }
   ],
   "source": [
    "df68 = dfK8Math2017_12018.loc[(dfK8Math2017_12018['PercentScore'] > (mean - sigma)) & \\\n",
    "                       (dfK8Math2017_12018['PercentScore'] < (mean + sigma))]\n",
    "\n",
    "df95 = dfK8Math2017_12018.loc[(dfK8Math2017_12018['PercentScore'] > (mean - 2.0*sigma)) & \\\n",
    "                       (dfK8Math2017_12018['PercentScore'] < (mean + 2.0*sigma))]\n",
    "\n",
    "df995 = dfK8Math2017_12018.loc[(dfK8Math2017_12018['PercentScore'] > (mean - 3.0*sigma)) & \\\n",
    "                       (dfK8Math2017_12018['PercentScore'] < (mean + 3.0*sigma))]\n",
    "\n",
    "\n",
    "rule68 = df68.shape[0]/dfK8Math2017_12018.shape[0]\n",
    "rule95 = df95.shape[0]/dfK8Math2017_12018.shape[0]\n",
    "rule995 = df995.shape[0]/dfK8Math2017_12018.shape[0]\n",
    "\n",
    "print(\"( 68 vs\",rule68,\")  ( 95 vs\",rule95, \") ( 99.5  vs\", rule995, \")\")"
   ]
  },
  {
   "cell_type": "markdown",
   "metadata": {},
   "source": [
    "Close but not entirely conclusive.  Broad shorlders and rapid falloff at the tails"
   ]
  },
  {
   "cell_type": "markdown",
   "metadata": {},
   "source": [
    "### Applying the NULL Hypothesis Tests"
   ]
  },
  {
   "cell_type": "markdown",
   "metadata": {},
   "source": [
    "Using T Test to assess likelyhood of change in mean scores measured represents actual change in achievement "
   ]
  },
  {
   "cell_type": "code",
   "execution_count": 54,
   "metadata": {},
   "outputs": [
    {
     "name": "stdout",
     "output_type": "stream",
     "text": [
      "Not reliable due to distribution\n"
     ]
    },
    {
     "data": {
      "text/plain": [
       "Ttest_indResult(statistic=-9.934947773343403, pvalue=3.472455395401406e-23)"
      ]
     },
     "execution_count": 54,
     "metadata": {},
     "output_type": "execute_result"
    }
   ],
   "source": [
    "print(\"Not reliable due to distribution\")\n",
    "stats.ttest_ind(dfK8Math2016_12017['ProficiencyLevelScore'], dfK8Math2017_12018['ProficiencyLevelScore'])"
   ]
  },
  {
   "cell_type": "code",
   "execution_count": 55,
   "metadata": {},
   "outputs": [
    {
     "name": "stdout",
     "output_type": "stream",
     "text": [
      "Better stat\n"
     ]
    },
    {
     "data": {
      "text/plain": [
       "Ttest_indResult(statistic=-9.016506610223155, pvalue=2.1785796240257726e-19)"
      ]
     },
     "execution_count": 55,
     "metadata": {},
     "output_type": "execute_result"
    }
   ],
   "source": [
    "print(\"Better stat\")\n",
    "stats.ttest_ind(dfK8Math2016_12017['PercentScore'], dfK8Math2017_12018['PercentScore'])"
   ]
  },
  {
   "cell_type": "markdown",
   "metadata": {},
   "source": [
    "### Conclusion"
   ]
  },
  {
   "cell_type": "markdown",
   "metadata": {
    "collapsed": true
   },
   "source": [
    "Since the p-value is low, we can safely assume theres been a change in students performance on testsand that they are not simply a random pertubations of other effects and insufficient sample size. Here being a student in effect serving as a test sample against school methodology and resources.  But there could be other confounding variables that have caused the change in the scores.  A better statistical approach may be to have used a random selection of schools for testing a the effect of a proposed change in  instructional resource and methodogy."
   ]
  },
  {
   "cell_type": "code",
   "execution_count": null,
   "metadata": {
    "collapsed": true
   },
   "outputs": [],
   "source": []
  }
 ],
 "metadata": {
  "kernelspec": {
   "display_name": "Python 3",
   "language": "python",
   "name": "python3"
  },
  "language_info": {
   "codemirror_mode": {
    "name": "ipython",
    "version": 3
   },
   "file_extension": ".py",
   "mimetype": "text/x-python",
   "name": "python",
   "nbconvert_exporter": "python",
   "pygments_lexer": "ipython3",
   "version": "3.6.7"
  }
 },
 "nbformat": 4,
 "nbformat_minor": 2
}
